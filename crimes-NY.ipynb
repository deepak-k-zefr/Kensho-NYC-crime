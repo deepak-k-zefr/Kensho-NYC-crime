{
 "cells": [
  {
   "cell_type": "markdown",
   "metadata": {},
   "source": [
    "## Read Data"
   ]
  },
  {
   "cell_type": "code",
   "execution_count": 1,
   "metadata": {
    "collapsed": true
   },
   "outputs": [],
   "source": [
    "import pandas as pd\n",
    "train=pd.read_csv(\"/Users/deepak/Downloads/data_science_challenge/train.csv\")"
   ]
  },
  {
   "cell_type": "markdown",
   "metadata": {},
   "source": [
    "## Description of the features\n",
    "http://www.nyc.gov/html/nypd/downloads/ptrain/analysis_and_planning/NYPDIncidentLevelDataFootnotes.ptrain"
   ]
  },
  {
   "cell_type": "markdown",
   "metadata": {},
   "source": [
    "Part 1: Build a model that can predict the type of ‘Offense’ given all the other features\n",
    "\n",
    "Use the train .csv file to train a model to predict the ‘Offense’ column.\n",
    "\n",
    "Your returned assignment should include:\n",
    "\n",
    "* Working code which solves the problem, along with any code used for EDA, etc\n",
    "* Classification accuracy of a dummy model that always guesses “GRAND LARCENY”.\n",
    "* Classification accuracy of your trained model evaluated on the train data ([*]train.csv).\n",
    "\n",
    "If you wish to include other metrics you are welcome to do so, but please include the accuracy (defined as the fraction of offenses predicted correctly)."
   ]
  },
  {
   "cell_type": "markdown",
   "metadata": {},
   "source": [
    "## HEAD"
   ]
  },
  {
   "cell_type": "code",
   "execution_count": 338,
   "metadata": {},
   "outputs": [
    {
     "data": {
      "text/html": [
       "<div>\n",
       "<style>\n",
       "    .dataframe thead tr:only-child th {\n",
       "        text-align: right;\n",
       "    }\n",
       "\n",
       "    .dataframe thead th {\n",
       "        text-align: left;\n",
       "    }\n",
       "\n",
       "    .dataframe tbody tr th {\n",
       "        vertical-align: top;\n",
       "    }\n",
       "</style>\n",
       "<table border=\"1\" class=\"dataframe\">\n",
       "  <thead>\n",
       "    <tr style=\"text-align: right;\">\n",
       "      <th></th>\n",
       "      <th>Identifier</th>\n",
       "      <th>Occurrence Datetime</th>\n",
       "      <th>Day of Week</th>\n",
       "      <th>Occurrence Month</th>\n",
       "      <th>Occurrence Day</th>\n",
       "      <th>Occurrence Year</th>\n",
       "      <th>Occurrence Hour</th>\n",
       "      <th>CompStat Month</th>\n",
       "      <th>CompStat Day</th>\n",
       "      <th>CompStat Year</th>\n",
       "      <th>Offense</th>\n",
       "      <th>Sector</th>\n",
       "      <th>Precinct</th>\n",
       "      <th>Borough</th>\n",
       "      <th>Jurisdiction</th>\n",
       "      <th>XCoordinate</th>\n",
       "      <th>YCoordinate</th>\n",
       "      <th>Location 1</th>\n",
       "      <th>Occurrence Date</th>\n",
       "    </tr>\n",
       "  </thead>\n",
       "  <tbody>\n",
       "    <tr>\n",
       "      <th>0</th>\n",
       "      <td>4eaf2b62</td>\n",
       "      <td>02/13/2013 12:00:00 AM</td>\n",
       "      <td>Wednesday</td>\n",
       "      <td>Feb</td>\n",
       "      <td>13</td>\n",
       "      <td>2013</td>\n",
       "      <td>0</td>\n",
       "      <td>2</td>\n",
       "      <td>14</td>\n",
       "      <td>2013</td>\n",
       "      <td>GRAND LARCENY</td>\n",
       "      <td>H</td>\n",
       "      <td>13</td>\n",
       "      <td>MANHATTAN</td>\n",
       "      <td>N.Y. POLICE DEPT</td>\n",
       "      <td>985716</td>\n",
       "      <td>209911</td>\n",
       "      <td>(40.7428419120001, -73.9947109889999)</td>\n",
       "      <td>2013-02-13</td>\n",
       "    </tr>\n",
       "    <tr>\n",
       "      <th>1</th>\n",
       "      <td>cacec67c</td>\n",
       "      <td>02/13/2013 12:00:00 AM</td>\n",
       "      <td>Wednesday</td>\n",
       "      <td>Feb</td>\n",
       "      <td>13</td>\n",
       "      <td>2013</td>\n",
       "      <td>0</td>\n",
       "      <td>5</td>\n",
       "      <td>20</td>\n",
       "      <td>2013</td>\n",
       "      <td>GRAND LARCENY</td>\n",
       "      <td>I</td>\n",
       "      <td>52</td>\n",
       "      <td>BRONX</td>\n",
       "      <td>N.Y. POLICE DEPT</td>\n",
       "      <td>1016552</td>\n",
       "      <td>260706</td>\n",
       "      <td>(40.88220104, -73.88318653)</td>\n",
       "      <td>2013-02-13</td>\n",
       "    </tr>\n",
       "    <tr>\n",
       "      <th>2</th>\n",
       "      <td>ca4bc93e</td>\n",
       "      <td>02/13/2013 12:01:00 AM</td>\n",
       "      <td>Wednesday</td>\n",
       "      <td>Feb</td>\n",
       "      <td>13</td>\n",
       "      <td>2013</td>\n",
       "      <td>0</td>\n",
       "      <td>2</td>\n",
       "      <td>13</td>\n",
       "      <td>2013</td>\n",
       "      <td>FELONY ASSAULT</td>\n",
       "      <td>A</td>\n",
       "      <td>100</td>\n",
       "      <td>QUEENS</td>\n",
       "      <td>N.Y. POLICE DEPT</td>\n",
       "      <td>1041165</td>\n",
       "      <td>155066</td>\n",
       "      <td>(40.592122008, -73.795071599)</td>\n",
       "      <td>2013-02-13</td>\n",
       "    </tr>\n",
       "  </tbody>\n",
       "</table>\n",
       "</div>"
      ],
      "text/plain": [
       "  Identifier     Occurrence Datetime Day of Week Occurrence Month  \\\n",
       "0   4eaf2b62  02/13/2013 12:00:00 AM   Wednesday              Feb   \n",
       "1   cacec67c  02/13/2013 12:00:00 AM   Wednesday              Feb   \n",
       "2   ca4bc93e  02/13/2013 12:01:00 AM   Wednesday              Feb   \n",
       "\n",
       "   Occurrence Day  Occurrence Year  Occurrence Hour  CompStat Month  \\\n",
       "0              13             2013                0               2   \n",
       "1              13             2013                0               5   \n",
       "2              13             2013                0               2   \n",
       "\n",
       "   CompStat Day  CompStat Year         Offense Sector  Precinct    Borough  \\\n",
       "0            14           2013   GRAND LARCENY      H        13  MANHATTAN   \n",
       "1            20           2013   GRAND LARCENY      I        52      BRONX   \n",
       "2            13           2013  FELONY ASSAULT      A       100     QUEENS   \n",
       "\n",
       "       Jurisdiction  XCoordinate  YCoordinate  \\\n",
       "0  N.Y. POLICE DEPT       985716       209911   \n",
       "1  N.Y. POLICE DEPT      1016552       260706   \n",
       "2  N.Y. POLICE DEPT      1041165       155066   \n",
       "\n",
       "                              Location 1 Occurrence Date  \n",
       "0  (40.7428419120001, -73.9947109889999)      2013-02-13  \n",
       "1            (40.88220104, -73.88318653)      2013-02-13  \n",
       "2          (40.592122008, -73.795071599)      2013-02-13  "
      ]
     },
     "execution_count": 338,
     "metadata": {},
     "output_type": "execute_result"
    }
   ],
   "source": [
    "train.head(3)"
   ]
  },
  {
   "cell_type": "markdown",
   "metadata": {},
   "source": [
    "## FIRST THOUGHTS:\n",
    "\n",
    " CHALLENGES:\n",
    "* Many categorical variables and categorical output\n",
    "* Categorical values must be encoded\n",
    "* Time series data\n",
    "* DATETIME module could be used to get timestamp from Occurrence Datetime.\n",
    "* Features that dont provide value/ features that repeat- Identifier, Occurrence Datetime, Occurrence Date\n",
    "* Possible collinearity between Actual event time and Reported event time.\n",
    "* Zipcode can be obtained from lat-long using google maps\n",
    "* latlong can be used to visualize on top of a map the distribution of crime\n",
    "* Look for seasonal effects\n",
    "* Not sure how to use xcoord, ycoord."
   ]
  },
  {
   "cell_type": "markdown",
   "metadata": {},
   "source": [
    "## SHAPE AND SIZE"
   ]
  },
  {
   "cell_type": "code",
   "execution_count": 339,
   "metadata": {},
   "outputs": [
    {
     "name": "stdout",
     "output_type": "stream",
     "text": [
      "SHAPE:  (213689, 19)\n",
      "SIZE: 4060091\n"
     ]
    }
   ],
   "source": [
    "print(\"SHAPE: \",train.shape)\n",
    "print(\"SIZE:\",train.size)"
   ]
  },
  {
   "cell_type": "code",
   "execution_count": 340,
   "metadata": {},
   "outputs": [
    {
     "data": {
      "text/plain": [
       "Identifier             object\n",
       "Occurrence Datetime    object\n",
       "Day of Week            object\n",
       "Occurrence Month       object\n",
       "Occurrence Day          int64\n",
       "Occurrence Year         int64\n",
       "Occurrence Hour         int64\n",
       "CompStat Month          int64\n",
       "CompStat Day            int64\n",
       "CompStat Year           int64\n",
       "Offense                object\n",
       "Sector                 object\n",
       "Precinct                int64\n",
       "Borough                object\n",
       "Jurisdiction           object\n",
       "XCoordinate             int64\n",
       "YCoordinate             int64\n",
       "Location 1             object\n",
       "Occurrence Date        object\n",
       "dtype: object"
      ]
     },
     "execution_count": 340,
     "metadata": {},
     "output_type": "execute_result"
    }
   ],
   "source": [
    "train.dtypes"
   ]
  },
  {
   "cell_type": "code",
   "execution_count": 341,
   "metadata": {},
   "outputs": [
    {
     "name": "stdout",
     "output_type": "stream",
     "text": [
      "       Occurrence Day  Occurrence Year  Occurrence Hour  CompStat Month  \\\n",
      "count   213689.000000    213689.000000    213689.000000   213689.000000   \n",
      "mean        15.705778      2013.487891        12.776156        6.711941   \n",
      "std          8.824787         0.499855         6.753176        3.386492   \n",
      "min          1.000000      2013.000000         0.000000        1.000000   \n",
      "25%          8.000000      2013.000000         8.000000        4.000000   \n",
      "50%         16.000000      2013.000000        14.000000        7.000000   \n",
      "75%         23.000000      2014.000000        18.000000       10.000000   \n",
      "max         31.000000      2014.000000        23.000000       12.000000   \n",
      "\n",
      "        CompStat Day  CompStat Year       Precinct   XCoordinate  \\\n",
      "count  213689.000000  213689.000000  213689.000000  2.136890e+05   \n",
      "mean       15.797477    2013.510256      63.444520  1.005701e+06   \n",
      "std         8.775506       0.522588      34.490573  2.058782e+04   \n",
      "min         1.000000    2013.000000       1.000000  9.134600e+05   \n",
      "25%         8.000000    2013.000000      40.000000  9.916000e+05   \n",
      "50%        16.000000    2013.000000      67.000000  1.004127e+06   \n",
      "75%        23.000000    2014.000000      94.000000  1.017119e+06   \n",
      "max        31.000000    2015.000000     123.000000  1.067117e+06   \n",
      "\n",
      "         YCoordinate  \n",
      "count  213689.000000  \n",
      "mean   205872.689231  \n",
      "std     29124.015489  \n",
      "min    121080.000000  \n",
      "25%    184763.000000  \n",
      "50%    204336.000000  \n",
      "75%    229191.000000  \n",
      "max    271820.000000  \n"
     ]
    }
   ],
   "source": [
    "print(train.describe())"
   ]
  },
  {
   "cell_type": "code",
   "execution_count": 342,
   "metadata": {},
   "outputs": [
    {
     "data": {
      "text/plain": [
       "Occurrence Day     0.002951\n",
       "Occurrence Year    0.048449\n",
       "Occurrence Hour   -0.370107\n",
       "CompStat Month    -0.099611\n",
       "CompStat Day      -0.000057\n",
       "CompStat Year      0.202945\n",
       "Precinct          -0.028657\n",
       "XCoordinate       -0.020874\n",
       "YCoordinate        0.092971\n",
       "dtype: float64"
      ]
     },
     "execution_count": 342,
     "metadata": {},
     "output_type": "execute_result"
    }
   ],
   "source": [
    "train.skew()"
   ]
  },
  {
   "cell_type": "code",
   "execution_count": 382,
   "metadata": {},
   "outputs": [
    {
     "data": {
      "text/html": [
       "<iframe id=\"igraph\" scrolling=\"no\" style=\"border:none;\" seamless=\"seamless\" src=\"https://plot.ly/~deepak012c/16.embed\" height=\"525px\" width=\"100%\"></iframe>"
      ],
      "text/plain": [
       "<plotly.tools.PlotlyDisplay object>"
      ]
     },
     "execution_count": 382,
     "metadata": {},
     "output_type": "execute_result"
    }
   ],
   "source": [
    "offense= (train['Occurrence Datetime'].groupby(train['Offense']).count())\n",
    "\n",
    "import plotly.plotly as py\n",
    "import plotly.graph_objs as go\n",
    "\n",
    "data = [go.Bar(\n",
    "            x=list(offense.index),\n",
    "            y=list(offense)\n",
    "    )]\n",
    "\n",
    "layout = go.Layout(\n",
    "    yaxis=dict(title='Count'),\n",
    "    xaxis=dict(title='Offense'),\n",
    "    title='Distribution of Offenses')\n",
    "\n",
    "fig=go.Figure(data=data, layout=layout)\n",
    "py.iplot(fig)"
   ]
  },
  {
   "cell_type": "markdown",
   "metadata": {},
   "source": [
    "Grand larceny is the most common crime and Murder/Rape are the least"
   ]
  },
  {
   "cell_type": "code",
   "execution_count": 358,
   "metadata": {},
   "outputs": [
    {
     "data": {
      "text/plain": [
       "Occurrence Year\n",
       "2013    109432\n",
       "2014    104257\n",
       "Name: Occurrence Datetime, dtype: int64"
      ]
     },
     "execution_count": 358,
     "metadata": {},
     "output_type": "execute_result"
    }
   ],
   "source": [
    "(train['Occurrence Datetime'].groupby(train['Occurrence Year']).count())"
   ]
  },
  {
   "cell_type": "code",
   "execution_count": 387,
   "metadata": {},
   "outputs": [
    {
     "data": {
      "text/html": [
       "<iframe id=\"igraph\" scrolling=\"no\" style=\"border:none;\" seamless=\"seamless\" src=\"https://plot.ly/~deepak012c/2.embed\" height=\"525px\" width=\"100%\"></iframe>"
      ],
      "text/plain": [
       "<plotly.tools.PlotlyDisplay object>"
      ]
     },
     "execution_count": 387,
     "metadata": {},
     "output_type": "execute_result"
    }
   ],
   "source": [
    "dom=train[\"Occurrence Month\"].value_counts()\n",
    "\n",
    "dom = [go.Bar(\n",
    "            x=list(dom.index),\n",
    "            y=list(dom)\n",
    "    )]\n",
    "\n",
    "\n",
    "layout = go.Layout(\n",
    "    yaxis=dict(title='Count'),\n",
    "    xaxis=dict(title='Day of Month'),\n",
    "    title='Offense by Month')    \n",
    "    \n",
    "fig3=go.Figure(data=dom, layout=layout)\n",
    "\n",
    "py.iplot(fig3, filename='basic-bar')"
   ]
  },
  {
   "cell_type": "markdown",
   "metadata": {},
   "source": [
    "Offense count seems to be maximum in summer- July and August (31 days), minimum on Feb(28 days)"
   ]
  },
  {
   "cell_type": "code",
   "execution_count": 383,
   "metadata": {},
   "outputs": [
    {
     "data": {
      "text/html": [
       "<iframe id=\"igraph\" scrolling=\"no\" style=\"border:none;\" seamless=\"seamless\" src=\"https://plot.ly/~deepak012c/2.embed\" height=\"525px\" width=\"100%\"></iframe>"
      ],
      "text/plain": [
       "<plotly.tools.PlotlyDisplay object>"
      ]
     },
     "execution_count": 383,
     "metadata": {},
     "output_type": "execute_result"
    }
   ],
   "source": [
    "dow=train[\"Day of Week\"].value_counts()\n",
    "\n",
    "dow = [go.Bar(\n",
    "            x=list(dow.index),\n",
    "            y=list(dow)\n",
    "    )]\n",
    "\n",
    "\n",
    "layout = go.Layout(\n",
    "    yaxis=dict(title='Count'),\n",
    "    xaxis=dict(title='Day of Week'),\n",
    "    title='Offense by Day of week')    \n",
    "    \n",
    "fig2=go.Figure(data=dow, layout=layout)\n",
    "\n",
    "py.iplot(fig2, filename='basic-bar')"
   ]
  },
  {
   "cell_type": "markdown",
   "metadata": {},
   "source": [
    "More offenses occur on Weekends(Friday and Saturday) which is expected and least on Sunday (Surprising)."
   ]
  },
  {
   "cell_type": "code",
   "execution_count": 390,
   "metadata": {},
   "outputs": [
    {
     "data": {
      "text/html": [
       "<iframe id=\"igraph\" scrolling=\"no\" style=\"border:none;\" seamless=\"seamless\" src=\"https://plot.ly/~deepak012c/2.embed\" height=\"525px\" width=\"100%\"></iframe>"
      ],
      "text/plain": [
       "<plotly.tools.PlotlyDisplay object>"
      ]
     },
     "execution_count": 390,
     "metadata": {},
     "output_type": "execute_result"
    }
   ],
   "source": [
    "hod=train[\"Occurrence Hour\"].value_counts()\n",
    "\n",
    "hod = [go.Bar(\n",
    "            x=list(hod.index),\n",
    "            y=list(hod)\n",
    "    )]\n",
    "\n",
    "\n",
    "layout = go.Layout(\n",
    "    yaxis=dict(title='Count'),\n",
    "    xaxis=dict(title='Hour of Day'),\n",
    "    title='Offense by Hour of Day')    \n",
    "    \n",
    "fig4=go.Figure(data=hod, layout=layout)\n",
    "\n",
    "py.iplot(fig4, filename='basic-bar')"
   ]
  },
  {
   "cell_type": "markdown",
   "metadata": {},
   "source": [
    "Number of offense seems to be maximum between 3 PM and 7 PM and minimum between 4 AM and 7 AM"
   ]
  },
  {
   "cell_type": "code",
   "execution_count": 354,
   "metadata": {},
   "outputs": [
    {
     "data": {
      "text/html": [
       "<div>\n",
       "<style>\n",
       "    .dataframe thead tr:only-child th {\n",
       "        text-align: right;\n",
       "    }\n",
       "\n",
       "    .dataframe thead th {\n",
       "        text-align: left;\n",
       "    }\n",
       "\n",
       "    .dataframe tbody tr th {\n",
       "        vertical-align: top;\n",
       "    }\n",
       "</style>\n",
       "<table border=\"1\" class=\"dataframe\">\n",
       "  <thead>\n",
       "    <tr style=\"text-align: right;\">\n",
       "      <th></th>\n",
       "      <th>Identifier</th>\n",
       "      <th>Occurrence Datetime</th>\n",
       "      <th>Day of Week</th>\n",
       "      <th>Occurrence Month</th>\n",
       "      <th>Occurrence Day</th>\n",
       "      <th>Occurrence Year</th>\n",
       "      <th>Occurrence Hour</th>\n",
       "      <th>CompStat Month</th>\n",
       "      <th>CompStat Day</th>\n",
       "      <th>CompStat Year</th>\n",
       "      <th>Offense</th>\n",
       "      <th>Sector</th>\n",
       "      <th>Precinct</th>\n",
       "      <th>Borough</th>\n",
       "      <th>Jurisdiction</th>\n",
       "      <th>XCoordinate</th>\n",
       "      <th>YCoordinate</th>\n",
       "      <th>Location 1</th>\n",
       "      <th>Occurrence Date</th>\n",
       "    </tr>\n",
       "  </thead>\n",
       "  <tbody>\n",
       "    <tr>\n",
       "      <th>0</th>\n",
       "      <td>4eaf2b62</td>\n",
       "      <td>02/13/2013 12:00:00 AM</td>\n",
       "      <td>Wednesday</td>\n",
       "      <td>Feb</td>\n",
       "      <td>13</td>\n",
       "      <td>2013</td>\n",
       "      <td>0</td>\n",
       "      <td>2</td>\n",
       "      <td>14</td>\n",
       "      <td>2013</td>\n",
       "      <td>GRAND LARCENY</td>\n",
       "      <td>H</td>\n",
       "      <td>13</td>\n",
       "      <td>MANHATTAN</td>\n",
       "      <td>N.Y. POLICE DEPT</td>\n",
       "      <td>985716</td>\n",
       "      <td>209911</td>\n",
       "      <td>(40.7428419120001, -73.9947109889999)</td>\n",
       "      <td>2013-02-13</td>\n",
       "    </tr>\n",
       "    <tr>\n",
       "      <th>1</th>\n",
       "      <td>cacec67c</td>\n",
       "      <td>02/13/2013 12:00:00 AM</td>\n",
       "      <td>Wednesday</td>\n",
       "      <td>Feb</td>\n",
       "      <td>13</td>\n",
       "      <td>2013</td>\n",
       "      <td>0</td>\n",
       "      <td>5</td>\n",
       "      <td>20</td>\n",
       "      <td>2013</td>\n",
       "      <td>GRAND LARCENY</td>\n",
       "      <td>I</td>\n",
       "      <td>52</td>\n",
       "      <td>BRONX</td>\n",
       "      <td>N.Y. POLICE DEPT</td>\n",
       "      <td>1016552</td>\n",
       "      <td>260706</td>\n",
       "      <td>(40.88220104, -73.88318653)</td>\n",
       "      <td>2013-02-13</td>\n",
       "    </tr>\n",
       "    <tr>\n",
       "      <th>2</th>\n",
       "      <td>ca4bc93e</td>\n",
       "      <td>02/13/2013 12:01:00 AM</td>\n",
       "      <td>Wednesday</td>\n",
       "      <td>Feb</td>\n",
       "      <td>13</td>\n",
       "      <td>2013</td>\n",
       "      <td>0</td>\n",
       "      <td>2</td>\n",
       "      <td>13</td>\n",
       "      <td>2013</td>\n",
       "      <td>FELONY ASSAULT</td>\n",
       "      <td>A</td>\n",
       "      <td>100</td>\n",
       "      <td>QUEENS</td>\n",
       "      <td>N.Y. POLICE DEPT</td>\n",
       "      <td>1041165</td>\n",
       "      <td>155066</td>\n",
       "      <td>(40.592122008, -73.795071599)</td>\n",
       "      <td>2013-02-13</td>\n",
       "    </tr>\n",
       "    <tr>\n",
       "      <th>3</th>\n",
       "      <td>19f9636c</td>\n",
       "      <td>02/13/2013 12:05:00 AM</td>\n",
       "      <td>Wednesday</td>\n",
       "      <td>Feb</td>\n",
       "      <td>13</td>\n",
       "      <td>2013</td>\n",
       "      <td>0</td>\n",
       "      <td>2</td>\n",
       "      <td>13</td>\n",
       "      <td>2013</td>\n",
       "      <td>FELONY ASSAULT</td>\n",
       "      <td>H</td>\n",
       "      <td>62</td>\n",
       "      <td>BROOKLYN</td>\n",
       "      <td>N.Y. POLICE DEPT</td>\n",
       "      <td>984298</td>\n",
       "      <td>163775</td>\n",
       "      <td>(40.61620917, -73.999828549)</td>\n",
       "      <td>2013-02-13</td>\n",
       "    </tr>\n",
       "    <tr>\n",
       "      <th>4</th>\n",
       "      <td>629302ce</td>\n",
       "      <td>02/13/2013 12:05:00 AM</td>\n",
       "      <td>Wednesday</td>\n",
       "      <td>Feb</td>\n",
       "      <td>13</td>\n",
       "      <td>2013</td>\n",
       "      <td>0</td>\n",
       "      <td>2</td>\n",
       "      <td>13</td>\n",
       "      <td>2013</td>\n",
       "      <td>FELONY ASSAULT</td>\n",
       "      <td>D</td>\n",
       "      <td>52</td>\n",
       "      <td>BRONX</td>\n",
       "      <td>N.Y. POLICE DEPT</td>\n",
       "      <td>1013228</td>\n",
       "      <td>253750</td>\n",
       "      <td>(40.863120505, -73.8952373069999)</td>\n",
       "      <td>2013-02-13</td>\n",
       "    </tr>\n",
       "  </tbody>\n",
       "</table>\n",
       "</div>"
      ],
      "text/plain": [
       "  Identifier     Occurrence Datetime Day of Week Occurrence Month  \\\n",
       "0   4eaf2b62  02/13/2013 12:00:00 AM   Wednesday              Feb   \n",
       "1   cacec67c  02/13/2013 12:00:00 AM   Wednesday              Feb   \n",
       "2   ca4bc93e  02/13/2013 12:01:00 AM   Wednesday              Feb   \n",
       "3   19f9636c  02/13/2013 12:05:00 AM   Wednesday              Feb   \n",
       "4   629302ce  02/13/2013 12:05:00 AM   Wednesday              Feb   \n",
       "\n",
       "   Occurrence Day  Occurrence Year  Occurrence Hour  CompStat Month  \\\n",
       "0              13             2013                0               2   \n",
       "1              13             2013                0               5   \n",
       "2              13             2013                0               2   \n",
       "3              13             2013                0               2   \n",
       "4              13             2013                0               2   \n",
       "\n",
       "   CompStat Day  CompStat Year         Offense Sector  Precinct    Borough  \\\n",
       "0            14           2013   GRAND LARCENY      H        13  MANHATTAN   \n",
       "1            20           2013   GRAND LARCENY      I        52      BRONX   \n",
       "2            13           2013  FELONY ASSAULT      A       100     QUEENS   \n",
       "3            13           2013  FELONY ASSAULT      H        62   BROOKLYN   \n",
       "4            13           2013  FELONY ASSAULT      D        52      BRONX   \n",
       "\n",
       "       Jurisdiction  XCoordinate  YCoordinate  \\\n",
       "0  N.Y. POLICE DEPT       985716       209911   \n",
       "1  N.Y. POLICE DEPT      1016552       260706   \n",
       "2  N.Y. POLICE DEPT      1041165       155066   \n",
       "3  N.Y. POLICE DEPT       984298       163775   \n",
       "4  N.Y. POLICE DEPT      1013228       253750   \n",
       "\n",
       "                              Location 1 Occurrence Date  \n",
       "0  (40.7428419120001, -73.9947109889999)      2013-02-13  \n",
       "1            (40.88220104, -73.88318653)      2013-02-13  \n",
       "2          (40.592122008, -73.795071599)      2013-02-13  \n",
       "3           (40.61620917, -73.999828549)      2013-02-13  \n",
       "4      (40.863120505, -73.8952373069999)      2013-02-13  "
      ]
     },
     "execution_count": 354,
     "metadata": {},
     "output_type": "execute_result"
    }
   ],
   "source": [
    "train.head()"
   ]
  },
  {
   "cell_type": "markdown",
   "metadata": {},
   "source": [
    "## Classification accuracy of a dummy model that always guesses “GRAND LARCENY”."
   ]
  },
  {
   "cell_type": "code",
   "execution_count": 449,
   "metadata": {
    "collapsed": true
   },
   "outputs": [],
   "source": [
    "test=pd.read_csv(\"/Users/deepak/Downloads/data_science_challenge/test.csv\")\n"
   ]
  },
  {
   "cell_type": "code",
   "execution_count": 450,
   "metadata": {},
   "outputs": [
    {
     "name": "stdout",
     "output_type": "stream",
     "text": [
      "40.83551329268236\n",
      "19.094572018213384\n"
     ]
    }
   ],
   "source": [
    "print(\"ON TRAINING DATA\",train[train.Offense==\"GRAND LARCENY\"].shape[0]/df.shape[0]*100)\n",
    "print(\"ON TEST DATA,test[test.Offense==\"GRAND LARCENY\"].shape[0]/df.shape[0]*100)"
   ]
  },
  {
   "cell_type": "markdown",
   "metadata": {},
   "source": [
    "## DROP COLUMNS"
   ]
  },
  {
   "cell_type": "code",
   "execution_count": 40,
   "metadata": {},
   "outputs": [],
   "source": [
    "def drop_colums(data):\n",
    "    columns = [\"Identifier\",\"Occurrence Datetime\",\"Occurrence Date\",\"XCoordinate\",\"YCoordinate\",\"Location 1\"]\n",
    "    data=data.drop(columns,axis=1)\n",
    "    return data"
   ]
  },
  {
   "cell_type": "code",
   "execution_count": 5,
   "metadata": {},
   "outputs": [
    {
     "data": {
      "text/html": [
       "<div>\n",
       "<style>\n",
       "    .dataframe thead tr:only-child th {\n",
       "        text-align: right;\n",
       "    }\n",
       "\n",
       "    .dataframe thead th {\n",
       "        text-align: left;\n",
       "    }\n",
       "\n",
       "    .dataframe tbody tr th {\n",
       "        vertical-align: top;\n",
       "    }\n",
       "</style>\n",
       "<table border=\"1\" class=\"dataframe\">\n",
       "  <thead>\n",
       "    <tr style=\"text-align: right;\">\n",
       "      <th></th>\n",
       "      <th>Day of Week</th>\n",
       "      <th>Occurrence Month</th>\n",
       "      <th>Occurrence Day</th>\n",
       "      <th>Occurrence Year</th>\n",
       "      <th>Occurrence Hour</th>\n",
       "      <th>CompStat Month</th>\n",
       "      <th>CompStat Day</th>\n",
       "      <th>CompStat Year</th>\n",
       "      <th>Offense</th>\n",
       "      <th>Sector</th>\n",
       "      <th>Precinct</th>\n",
       "      <th>Borough</th>\n",
       "      <th>Jurisdiction</th>\n",
       "    </tr>\n",
       "  </thead>\n",
       "  <tbody>\n",
       "    <tr>\n",
       "      <th>0</th>\n",
       "      <td>Wednesday</td>\n",
       "      <td>Feb</td>\n",
       "      <td>13</td>\n",
       "      <td>2013</td>\n",
       "      <td>0</td>\n",
       "      <td>2</td>\n",
       "      <td>14</td>\n",
       "      <td>2013</td>\n",
       "      <td>GRAND LARCENY</td>\n",
       "      <td>H</td>\n",
       "      <td>13</td>\n",
       "      <td>MANHATTAN</td>\n",
       "      <td>N.Y. POLICE DEPT</td>\n",
       "    </tr>\n",
       "    <tr>\n",
       "      <th>1</th>\n",
       "      <td>Wednesday</td>\n",
       "      <td>Feb</td>\n",
       "      <td>13</td>\n",
       "      <td>2013</td>\n",
       "      <td>0</td>\n",
       "      <td>5</td>\n",
       "      <td>20</td>\n",
       "      <td>2013</td>\n",
       "      <td>GRAND LARCENY</td>\n",
       "      <td>I</td>\n",
       "      <td>52</td>\n",
       "      <td>BRONX</td>\n",
       "      <td>N.Y. POLICE DEPT</td>\n",
       "    </tr>\n",
       "    <tr>\n",
       "      <th>2</th>\n",
       "      <td>Wednesday</td>\n",
       "      <td>Feb</td>\n",
       "      <td>13</td>\n",
       "      <td>2013</td>\n",
       "      <td>0</td>\n",
       "      <td>2</td>\n",
       "      <td>13</td>\n",
       "      <td>2013</td>\n",
       "      <td>FELONY ASSAULT</td>\n",
       "      <td>A</td>\n",
       "      <td>100</td>\n",
       "      <td>QUEENS</td>\n",
       "      <td>N.Y. POLICE DEPT</td>\n",
       "    </tr>\n",
       "    <tr>\n",
       "      <th>3</th>\n",
       "      <td>Wednesday</td>\n",
       "      <td>Feb</td>\n",
       "      <td>13</td>\n",
       "      <td>2013</td>\n",
       "      <td>0</td>\n",
       "      <td>2</td>\n",
       "      <td>13</td>\n",
       "      <td>2013</td>\n",
       "      <td>FELONY ASSAULT</td>\n",
       "      <td>H</td>\n",
       "      <td>62</td>\n",
       "      <td>BROOKLYN</td>\n",
       "      <td>N.Y. POLICE DEPT</td>\n",
       "    </tr>\n",
       "    <tr>\n",
       "      <th>4</th>\n",
       "      <td>Wednesday</td>\n",
       "      <td>Feb</td>\n",
       "      <td>13</td>\n",
       "      <td>2013</td>\n",
       "      <td>0</td>\n",
       "      <td>2</td>\n",
       "      <td>13</td>\n",
       "      <td>2013</td>\n",
       "      <td>FELONY ASSAULT</td>\n",
       "      <td>D</td>\n",
       "      <td>52</td>\n",
       "      <td>BRONX</td>\n",
       "      <td>N.Y. POLICE DEPT</td>\n",
       "    </tr>\n",
       "  </tbody>\n",
       "</table>\n",
       "</div>"
      ],
      "text/plain": [
       "  Day of Week Occurrence Month  Occurrence Day  Occurrence Year  \\\n",
       "0   Wednesday              Feb              13             2013   \n",
       "1   Wednesday              Feb              13             2013   \n",
       "2   Wednesday              Feb              13             2013   \n",
       "3   Wednesday              Feb              13             2013   \n",
       "4   Wednesday              Feb              13             2013   \n",
       "\n",
       "   Occurrence Hour  CompStat Month  CompStat Day  CompStat Year  \\\n",
       "0                0               2            14           2013   \n",
       "1                0               5            20           2013   \n",
       "2                0               2            13           2013   \n",
       "3                0               2            13           2013   \n",
       "4                0               2            13           2013   \n",
       "\n",
       "          Offense Sector  Precinct    Borough      Jurisdiction  \n",
       "0   GRAND LARCENY      H        13  MANHATTAN  N.Y. POLICE DEPT  \n",
       "1   GRAND LARCENY      I        52      BRONX  N.Y. POLICE DEPT  \n",
       "2  FELONY ASSAULT      A       100     QUEENS  N.Y. POLICE DEPT  \n",
       "3  FELONY ASSAULT      H        62   BROOKLYN  N.Y. POLICE DEPT  \n",
       "4  FELONY ASSAULT      D        52      BRONX  N.Y. POLICE DEPT  "
      ]
     },
     "execution_count": 5,
     "metadata": {},
     "output_type": "execute_result"
    }
   ],
   "source": [
    "train_data=drop_colums(train)\n",
    "train_data.head()"
   ]
  },
  {
   "cell_type": "markdown",
   "metadata": {},
   "source": [
    "### GET ZIPCPDE FROM LAT-LONG"
   ]
  },
  {
   "cell_type": "code",
   "execution_count": 284,
   "metadata": {},
   "outputs": [
    {
     "data": {
      "text/plain": [
       "['38103']"
      ]
     },
     "execution_count": 284,
     "metadata": {},
     "output_type": "execute_result"
    }
   ],
   "source": [
    "import requests\n",
    "import re\n",
    "\n",
    "def zipcode_from_latlong(latitude,longitude):\n",
    "\n",
    "#     latitude = 35.1330343\n",
    "#     longitude = -90.0625056\n",
    "    sensor = 'true'\n",
    "    base = \"http://maps.googleapis.com/maps/api/geocode/json?\"\n",
    "    params = \"latlng={lat},{lon}&sensor={sen}\".format(\n",
    "        lat=latitude,\n",
    "        lon=longitude,\n",
    "        sen=sensor\n",
    "    )\n",
    "    url = \"{base}{params}\".format(base=base, params=params)\n",
    "    response = requests.get(url)\n",
    "    address = response.json()['results'][0]['formatted_address']\n",
    "    \n",
    "    \n",
    "    ### Extract zipcode from address\n",
    "    pattern=re.compile(r\"\\d{5}\")\n",
    "    matches=pattern.findall(address)\n",
    "    \n",
    "    return matches\n",
    "\n"
   ]
  },
  {
   "cell_type": "markdown",
   "metadata": {},
   "source": [
    "* Using Google maps API would take atleast 10 hrs to get  zipcode for all data."
   ]
  },
  {
   "cell_type": "code",
   "execution_count": 296,
   "metadata": {},
   "outputs": [
    {
     "data": {
      "text/plain": [
       "['38103']"
      ]
     },
     "execution_count": 296,
     "metadata": {},
     "output_type": "execute_result"
    }
   ],
   "source": [
    "zipcode_from_latlong(35.1330343,-90.0625056)"
   ]
  },
  {
   "cell_type": "code",
   "execution_count": null,
   "metadata": {
    "collapsed": true
   },
   "outputs": [],
   "source": [
    "zipcodes=[]\n",
    "for element in data[\"Location 1\"]:\n",
    "    try:\n",
    "\n",
    "        lat=(float((element.split(\",\")[0]).replace(\"(\",\"\")))\n",
    "        long=(float((element.split(\",\")[1]).replace(\")\",\"\")))\n",
    "        zipcodes.append(zipcode_from_latlong(lat,long))\n",
    "    except IndexError:\n",
    "        zipcodes.append(\"null\")"
   ]
  },
  {
   "cell_type": "code",
   "execution_count": 330,
   "metadata": {},
   "outputs": [
    {
     "data": {
      "text/plain": [
       "24778"
      ]
     },
     "execution_count": 330,
     "metadata": {},
     "output_type": "execute_result"
    }
   ],
   "source": [
    "len(zipcodes)  ## Extracted in 1 one hr"
   ]
  },
  {
   "cell_type": "code",
   "execution_count": 454,
   "metadata": {},
   "outputs": [
    {
     "data": {
      "text/plain": [
       "[['10467'], ['11692'], ['11204'], ['10458']]"
      ]
     },
     "execution_count": 454,
     "metadata": {},
     "output_type": "execute_result"
    }
   ],
   "source": [
    "zipcodes[1:5]"
   ]
  },
  {
   "cell_type": "markdown",
   "metadata": {},
   "source": [
    "## HANDLING 'OBJECT' DATATYPES"
   ]
  },
  {
   "cell_type": "code",
   "execution_count": 6,
   "metadata": {},
   "outputs": [
    {
     "data": {
      "text/html": [
       "<div>\n",
       "<style>\n",
       "    .dataframe thead tr:only-child th {\n",
       "        text-align: right;\n",
       "    }\n",
       "\n",
       "    .dataframe thead th {\n",
       "        text-align: left;\n",
       "    }\n",
       "\n",
       "    .dataframe tbody tr th {\n",
       "        vertical-align: top;\n",
       "    }\n",
       "</style>\n",
       "<table border=\"1\" class=\"dataframe\">\n",
       "  <thead>\n",
       "    <tr style=\"text-align: right;\">\n",
       "      <th></th>\n",
       "      <th>Day of Week</th>\n",
       "      <th>Occurrence Month</th>\n",
       "      <th>Occurrence Day</th>\n",
       "      <th>Occurrence Year</th>\n",
       "      <th>Occurrence Hour</th>\n",
       "      <th>CompStat Month</th>\n",
       "      <th>CompStat Day</th>\n",
       "      <th>CompStat Year</th>\n",
       "      <th>Offense</th>\n",
       "      <th>Sector</th>\n",
       "      <th>Precinct</th>\n",
       "      <th>Borough</th>\n",
       "      <th>Jurisdiction</th>\n",
       "    </tr>\n",
       "  </thead>\n",
       "  <tbody>\n",
       "    <tr>\n",
       "      <th>0</th>\n",
       "      <td>Wednesday</td>\n",
       "      <td>Feb</td>\n",
       "      <td>13</td>\n",
       "      <td>2013</td>\n",
       "      <td>0</td>\n",
       "      <td>2</td>\n",
       "      <td>14</td>\n",
       "      <td>2013</td>\n",
       "      <td>GRAND LARCENY</td>\n",
       "      <td>H</td>\n",
       "      <td>13</td>\n",
       "      <td>MANHATTAN</td>\n",
       "      <td>N.Y. POLICE DEPT</td>\n",
       "    </tr>\n",
       "    <tr>\n",
       "      <th>1</th>\n",
       "      <td>Wednesday</td>\n",
       "      <td>Feb</td>\n",
       "      <td>13</td>\n",
       "      <td>2013</td>\n",
       "      <td>0</td>\n",
       "      <td>5</td>\n",
       "      <td>20</td>\n",
       "      <td>2013</td>\n",
       "      <td>GRAND LARCENY</td>\n",
       "      <td>I</td>\n",
       "      <td>52</td>\n",
       "      <td>BRONX</td>\n",
       "      <td>N.Y. POLICE DEPT</td>\n",
       "    </tr>\n",
       "  </tbody>\n",
       "</table>\n",
       "</div>"
      ],
      "text/plain": [
       "  Day of Week Occurrence Month  Occurrence Day  Occurrence Year  \\\n",
       "0   Wednesday              Feb              13             2013   \n",
       "1   Wednesday              Feb              13             2013   \n",
       "\n",
       "   Occurrence Hour  CompStat Month  CompStat Day  CompStat Year  \\\n",
       "0                0               2            14           2013   \n",
       "1                0               5            20           2013   \n",
       "\n",
       "         Offense Sector  Precinct    Borough      Jurisdiction  \n",
       "0  GRAND LARCENY      H        13  MANHATTAN  N.Y. POLICE DEPT  \n",
       "1  GRAND LARCENY      I        52      BRONX  N.Y. POLICE DEPT  "
      ]
     },
     "execution_count": 6,
     "metadata": {},
     "output_type": "execute_result"
    }
   ],
   "source": [
    "train_data.head(2)"
   ]
  },
  {
   "cell_type": "code",
   "execution_count": 7,
   "metadata": {},
   "outputs": [
    {
     "data": {
      "text/html": [
       "<div>\n",
       "<style>\n",
       "    .dataframe thead tr:only-child th {\n",
       "        text-align: right;\n",
       "    }\n",
       "\n",
       "    .dataframe thead th {\n",
       "        text-align: left;\n",
       "    }\n",
       "\n",
       "    .dataframe tbody tr th {\n",
       "        vertical-align: top;\n",
       "    }\n",
       "</style>\n",
       "<table border=\"1\" class=\"dataframe\">\n",
       "  <thead>\n",
       "    <tr style=\"text-align: right;\">\n",
       "      <th></th>\n",
       "      <th>Day of Week</th>\n",
       "      <th>Occurrence Month</th>\n",
       "      <th>Offense</th>\n",
       "      <th>Sector</th>\n",
       "      <th>Borough</th>\n",
       "      <th>Jurisdiction</th>\n",
       "    </tr>\n",
       "  </thead>\n",
       "  <tbody>\n",
       "    <tr>\n",
       "      <th>0</th>\n",
       "      <td>Wednesday</td>\n",
       "      <td>Feb</td>\n",
       "      <td>GRAND LARCENY</td>\n",
       "      <td>H</td>\n",
       "      <td>MANHATTAN</td>\n",
       "      <td>N.Y. POLICE DEPT</td>\n",
       "    </tr>\n",
       "    <tr>\n",
       "      <th>1</th>\n",
       "      <td>Wednesday</td>\n",
       "      <td>Feb</td>\n",
       "      <td>GRAND LARCENY</td>\n",
       "      <td>I</td>\n",
       "      <td>BRONX</td>\n",
       "      <td>N.Y. POLICE DEPT</td>\n",
       "    </tr>\n",
       "    <tr>\n",
       "      <th>2</th>\n",
       "      <td>Wednesday</td>\n",
       "      <td>Feb</td>\n",
       "      <td>FELONY ASSAULT</td>\n",
       "      <td>A</td>\n",
       "      <td>QUEENS</td>\n",
       "      <td>N.Y. POLICE DEPT</td>\n",
       "    </tr>\n",
       "    <tr>\n",
       "      <th>3</th>\n",
       "      <td>Wednesday</td>\n",
       "      <td>Feb</td>\n",
       "      <td>FELONY ASSAULT</td>\n",
       "      <td>H</td>\n",
       "      <td>BROOKLYN</td>\n",
       "      <td>N.Y. POLICE DEPT</td>\n",
       "    </tr>\n",
       "    <tr>\n",
       "      <th>4</th>\n",
       "      <td>Wednesday</td>\n",
       "      <td>Feb</td>\n",
       "      <td>FELONY ASSAULT</td>\n",
       "      <td>D</td>\n",
       "      <td>BRONX</td>\n",
       "      <td>N.Y. POLICE DEPT</td>\n",
       "    </tr>\n",
       "  </tbody>\n",
       "</table>\n",
       "</div>"
      ],
      "text/plain": [
       "  Day of Week Occurrence Month         Offense Sector    Borough  \\\n",
       "0   Wednesday              Feb   GRAND LARCENY      H  MANHATTAN   \n",
       "1   Wednesday              Feb   GRAND LARCENY      I      BRONX   \n",
       "2   Wednesday              Feb  FELONY ASSAULT      A     QUEENS   \n",
       "3   Wednesday              Feb  FELONY ASSAULT      H   BROOKLYN   \n",
       "4   Wednesday              Feb  FELONY ASSAULT      D      BRONX   \n",
       "\n",
       "       Jurisdiction  \n",
       "0  N.Y. POLICE DEPT  \n",
       "1  N.Y. POLICE DEPT  \n",
       "2  N.Y. POLICE DEPT  \n",
       "3  N.Y. POLICE DEPT  \n",
       "4  N.Y. POLICE DEPT  "
      ]
     },
     "execution_count": 7,
     "metadata": {},
     "output_type": "execute_result"
    }
   ],
   "source": [
    "obj_train = train_data.select_dtypes(include=['object']).copy()\n",
    "obj_train.head()"
   ]
  },
  {
   "cell_type": "markdown",
   "metadata": {},
   "source": [
    "## ENCODING"
   ]
  },
  {
   "cell_type": "code",
   "execution_count": 8,
   "metadata": {
    "collapsed": true
   },
   "outputs": [],
   "source": [
    "from sklearn.preprocessing import LabelEncoder\n",
    "\n",
    "## obj_df = object data types dataframe\n",
    "## data = entire dataframe\n",
    "def encode(obj_df,data):\n",
    "    \"\"\"\n",
    "    Encode object data types\n",
    "    \"\"\"\n",
    "    for column in list(obj_df.columns):\n",
    "             lb_make = LabelEncoder()\n",
    "             obj_df[column] = lb_make.fit_transform(obj_df[column])\n",
    "             data[column]=obj_df[column]\n",
    "    return 0    "
   ]
  },
  {
   "cell_type": "code",
   "execution_count": 10,
   "metadata": {},
   "outputs": [
    {
     "data": {
      "text/plain": [
       "0"
      ]
     },
     "execution_count": 10,
     "metadata": {},
     "output_type": "execute_result"
    }
   ],
   "source": [
    "encode(obj_train,train_data)"
   ]
  },
  {
   "cell_type": "code",
   "execution_count": 12,
   "metadata": {},
   "outputs": [
    {
     "data": {
      "text/html": [
       "<div>\n",
       "<style>\n",
       "    .dataframe thead tr:only-child th {\n",
       "        text-align: right;\n",
       "    }\n",
       "\n",
       "    .dataframe thead th {\n",
       "        text-align: left;\n",
       "    }\n",
       "\n",
       "    .dataframe tbody tr th {\n",
       "        vertical-align: top;\n",
       "    }\n",
       "</style>\n",
       "<table border=\"1\" class=\"dataframe\">\n",
       "  <thead>\n",
       "    <tr style=\"text-align: right;\">\n",
       "      <th></th>\n",
       "      <th>Day of Week</th>\n",
       "      <th>Occurrence Month</th>\n",
       "      <th>Occurrence Day</th>\n",
       "      <th>Occurrence Year</th>\n",
       "      <th>Occurrence Hour</th>\n",
       "      <th>CompStat Month</th>\n",
       "      <th>CompStat Day</th>\n",
       "      <th>CompStat Year</th>\n",
       "      <th>Offense</th>\n",
       "      <th>Sector</th>\n",
       "      <th>Precinct</th>\n",
       "      <th>Borough</th>\n",
       "      <th>Jurisdiction</th>\n",
       "    </tr>\n",
       "  </thead>\n",
       "  <tbody>\n",
       "    <tr>\n",
       "      <th>0</th>\n",
       "      <td>6</td>\n",
       "      <td>3</td>\n",
       "      <td>13</td>\n",
       "      <td>2013</td>\n",
       "      <td>0</td>\n",
       "      <td>2</td>\n",
       "      <td>14</td>\n",
       "      <td>2013</td>\n",
       "      <td>2</td>\n",
       "      <td>8</td>\n",
       "      <td>13</td>\n",
       "      <td>3</td>\n",
       "      <td>7</td>\n",
       "    </tr>\n",
       "    <tr>\n",
       "      <th>1</th>\n",
       "      <td>6</td>\n",
       "      <td>3</td>\n",
       "      <td>13</td>\n",
       "      <td>2013</td>\n",
       "      <td>0</td>\n",
       "      <td>5</td>\n",
       "      <td>20</td>\n",
       "      <td>2013</td>\n",
       "      <td>2</td>\n",
       "      <td>9</td>\n",
       "      <td>52</td>\n",
       "      <td>1</td>\n",
       "      <td>7</td>\n",
       "    </tr>\n",
       "    <tr>\n",
       "      <th>2</th>\n",
       "      <td>6</td>\n",
       "      <td>3</td>\n",
       "      <td>13</td>\n",
       "      <td>2013</td>\n",
       "      <td>0</td>\n",
       "      <td>2</td>\n",
       "      <td>13</td>\n",
       "      <td>2013</td>\n",
       "      <td>1</td>\n",
       "      <td>1</td>\n",
       "      <td>100</td>\n",
       "      <td>4</td>\n",
       "      <td>7</td>\n",
       "    </tr>\n",
       "  </tbody>\n",
       "</table>\n",
       "</div>"
      ],
      "text/plain": [
       "   Day of Week  Occurrence Month  Occurrence Day  Occurrence Year  \\\n",
       "0            6                 3              13             2013   \n",
       "1            6                 3              13             2013   \n",
       "2            6                 3              13             2013   \n",
       "\n",
       "   Occurrence Hour  CompStat Month  CompStat Day  CompStat Year  Offense  \\\n",
       "0                0               2            14           2013        2   \n",
       "1                0               5            20           2013        2   \n",
       "2                0               2            13           2013        1   \n",
       "\n",
       "   Sector  Precinct  Borough  Jurisdiction  \n",
       "0       8        13        3             7  \n",
       "1       9        52        1             7  \n",
       "2       1       100        4             7  "
      ]
     },
     "execution_count": 12,
     "metadata": {},
     "output_type": "execute_result"
    }
   ],
   "source": [
    "train_data.head(3)"
   ]
  },
  {
   "cell_type": "markdown",
   "metadata": {},
   "source": [
    "## EMPTY VALUES?"
   ]
  },
  {
   "cell_type": "code",
   "execution_count": 462,
   "metadata": {},
   "outputs": [
    {
     "data": {
      "text/html": [
       "<div>\n",
       "<style>\n",
       "    .dataframe thead tr:only-child th {\n",
       "        text-align: right;\n",
       "    }\n",
       "\n",
       "    .dataframe thead th {\n",
       "        text-align: left;\n",
       "    }\n",
       "\n",
       "    .dataframe tbody tr th {\n",
       "        vertical-align: top;\n",
       "    }\n",
       "</style>\n",
       "<table border=\"1\" class=\"dataframe\">\n",
       "  <thead>\n",
       "    <tr style=\"text-align: right;\">\n",
       "      <th></th>\n",
       "      <th>Day of Week</th>\n",
       "      <th>Occurrence Month</th>\n",
       "      <th>Occurrence Day</th>\n",
       "      <th>Occurrence Year</th>\n",
       "      <th>Occurrence Hour</th>\n",
       "      <th>CompStat Month</th>\n",
       "      <th>CompStat Day</th>\n",
       "      <th>CompStat Year</th>\n",
       "      <th>Offense</th>\n",
       "      <th>Sector</th>\n",
       "      <th>Precinct</th>\n",
       "      <th>Borough</th>\n",
       "      <th>Jurisdiction</th>\n",
       "    </tr>\n",
       "  </thead>\n",
       "  <tbody>\n",
       "  </tbody>\n",
       "</table>\n",
       "</div>"
      ],
      "text/plain": [
       "Empty DataFrame\n",
       "Columns: [Day of Week, Occurrence Month, Occurrence Day, Occurrence Year, Occurrence Hour, CompStat Month, CompStat Day, CompStat Year, Offense, Sector, Precinct, Borough, Jurisdiction]\n",
       "Index: []"
      ]
     },
     "execution_count": 462,
     "metadata": {},
     "output_type": "execute_result"
    }
   ],
   "source": [
    "train_data[train_data.isnull().any(axis=1)].head()"
   ]
  },
  {
   "cell_type": "code",
   "execution_count": 260,
   "metadata": {},
   "outputs": [],
   "source": [
    "#obj_train[\"sector\"].value_counts()"
   ]
  },
  {
   "cell_type": "markdown",
   "metadata": {},
   "source": [
    "## FIT and Predict"
   ]
  },
  {
   "cell_type": "code",
   "execution_count": 17,
   "metadata": {},
   "outputs": [
    {
     "data": {
      "text/html": [
       "<div>\n",
       "<style>\n",
       "    .dataframe thead tr:only-child th {\n",
       "        text-align: right;\n",
       "    }\n",
       "\n",
       "    .dataframe thead th {\n",
       "        text-align: left;\n",
       "    }\n",
       "\n",
       "    .dataframe tbody tr th {\n",
       "        vertical-align: top;\n",
       "    }\n",
       "</style>\n",
       "<table border=\"1\" class=\"dataframe\">\n",
       "  <thead>\n",
       "    <tr style=\"text-align: right;\">\n",
       "      <th></th>\n",
       "      <th>Day of Week</th>\n",
       "      <th>Occurrence Month</th>\n",
       "      <th>Occurrence Day</th>\n",
       "      <th>Occurrence Year</th>\n",
       "      <th>Occurrence Hour</th>\n",
       "      <th>CompStat Month</th>\n",
       "      <th>CompStat Day</th>\n",
       "      <th>CompStat Year</th>\n",
       "      <th>Offense</th>\n",
       "      <th>Sector</th>\n",
       "      <th>Precinct</th>\n",
       "      <th>Borough</th>\n",
       "      <th>Jurisdiction</th>\n",
       "    </tr>\n",
       "  </thead>\n",
       "  <tbody>\n",
       "    <tr>\n",
       "      <th>0</th>\n",
       "      <td>6</td>\n",
       "      <td>3</td>\n",
       "      <td>13</td>\n",
       "      <td>2013</td>\n",
       "      <td>0</td>\n",
       "      <td>2</td>\n",
       "      <td>14</td>\n",
       "      <td>2013</td>\n",
       "      <td>2</td>\n",
       "      <td>8</td>\n",
       "      <td>13</td>\n",
       "      <td>3</td>\n",
       "      <td>7</td>\n",
       "    </tr>\n",
       "    <tr>\n",
       "      <th>1</th>\n",
       "      <td>6</td>\n",
       "      <td>3</td>\n",
       "      <td>13</td>\n",
       "      <td>2013</td>\n",
       "      <td>0</td>\n",
       "      <td>5</td>\n",
       "      <td>20</td>\n",
       "      <td>2013</td>\n",
       "      <td>2</td>\n",
       "      <td>9</td>\n",
       "      <td>52</td>\n",
       "      <td>1</td>\n",
       "      <td>7</td>\n",
       "    </tr>\n",
       "    <tr>\n",
       "      <th>2</th>\n",
       "      <td>6</td>\n",
       "      <td>3</td>\n",
       "      <td>13</td>\n",
       "      <td>2013</td>\n",
       "      <td>0</td>\n",
       "      <td>2</td>\n",
       "      <td>13</td>\n",
       "      <td>2013</td>\n",
       "      <td>1</td>\n",
       "      <td>1</td>\n",
       "      <td>100</td>\n",
       "      <td>4</td>\n",
       "      <td>7</td>\n",
       "    </tr>\n",
       "    <tr>\n",
       "      <th>3</th>\n",
       "      <td>6</td>\n",
       "      <td>3</td>\n",
       "      <td>13</td>\n",
       "      <td>2013</td>\n",
       "      <td>0</td>\n",
       "      <td>2</td>\n",
       "      <td>13</td>\n",
       "      <td>2013</td>\n",
       "      <td>1</td>\n",
       "      <td>8</td>\n",
       "      <td>62</td>\n",
       "      <td>2</td>\n",
       "      <td>7</td>\n",
       "    </tr>\n",
       "    <tr>\n",
       "      <th>4</th>\n",
       "      <td>6</td>\n",
       "      <td>3</td>\n",
       "      <td>13</td>\n",
       "      <td>2013</td>\n",
       "      <td>0</td>\n",
       "      <td>2</td>\n",
       "      <td>13</td>\n",
       "      <td>2013</td>\n",
       "      <td>1</td>\n",
       "      <td>4</td>\n",
       "      <td>52</td>\n",
       "      <td>1</td>\n",
       "      <td>7</td>\n",
       "    </tr>\n",
       "  </tbody>\n",
       "</table>\n",
       "</div>"
      ],
      "text/plain": [
       "   Day of Week  Occurrence Month  Occurrence Day  Occurrence Year  \\\n",
       "0            6                 3              13             2013   \n",
       "1            6                 3              13             2013   \n",
       "2            6                 3              13             2013   \n",
       "3            6                 3              13             2013   \n",
       "4            6                 3              13             2013   \n",
       "\n",
       "   Occurrence Hour  CompStat Month  CompStat Day  CompStat Year  Offense  \\\n",
       "0                0               2            14           2013        2   \n",
       "1                0               5            20           2013        2   \n",
       "2                0               2            13           2013        1   \n",
       "3                0               2            13           2013        1   \n",
       "4                0               2            13           2013        1   \n",
       "\n",
       "   Sector  Precinct  Borough  Jurisdiction  \n",
       "0       8        13        3             7  \n",
       "1       9        52        1             7  \n",
       "2       1       100        4             7  \n",
       "3       8        62        2             7  \n",
       "4       4        52        1             7  "
      ]
     },
     "execution_count": 17,
     "metadata": {},
     "output_type": "execute_result"
    }
   ],
   "source": [
    "train_data.head()"
   ]
  },
  {
   "cell_type": "code",
   "execution_count": 20,
   "metadata": {},
   "outputs": [],
   "source": [
    "from sklearn.multiclass import OutputCodeClassifier\n",
    "from sklearn.ensemble import RandomForestClassifier\n",
    "X, y = train_data,train_data['Offense']\n",
    "clf2 = OutputCodeClassifier(RandomForestClassifier(random_state=0),\n",
    "                           code_size=2, random_state=0)\n",
    "pred=clf2.fit(X, y).predict(X)"
   ]
  },
  {
   "cell_type": "code",
   "execution_count": 409,
   "metadata": {},
   "outputs": [],
   "source": [
    "from sklearn.multiclass import OutputCodeClassifier\n",
    "from sklearn.ensemble import RandomForestClassifier\n",
    "\n",
    "\n",
    "X, y = data.drop([\"Location 1\"], axis=1),data['Offense']\n",
    "clf = OutputCodeClassifier(RandomForestClassifier(random_state=0),\n",
    "                           code_size=2, random_state=0)\n",
    "pred=clf.fit(X, y).predict(X)"
   ]
  },
  {
   "cell_type": "code",
   "execution_count": 451,
   "metadata": {
    "collapsed": true
   },
   "outputs": [],
   "source": [
    "## DROP COLUMNS AND ENCODE TEST DATA"
   ]
  },
  {
   "cell_type": "code",
   "execution_count": 32,
   "metadata": {},
   "outputs": [
    {
     "data": {
      "text/html": [
       "<div>\n",
       "<style>\n",
       "    .dataframe thead tr:only-child th {\n",
       "        text-align: right;\n",
       "    }\n",
       "\n",
       "    .dataframe thead th {\n",
       "        text-align: left;\n",
       "    }\n",
       "\n",
       "    .dataframe tbody tr th {\n",
       "        vertical-align: top;\n",
       "    }\n",
       "</style>\n",
       "<table border=\"1\" class=\"dataframe\">\n",
       "  <thead>\n",
       "    <tr style=\"text-align: right;\">\n",
       "      <th></th>\n",
       "      <th>Day of Week</th>\n",
       "      <th>Occurrence Month</th>\n",
       "      <th>Occurrence Day</th>\n",
       "      <th>Occurrence Year</th>\n",
       "      <th>Occurrence Hour</th>\n",
       "      <th>CompStat Month</th>\n",
       "      <th>CompStat Day</th>\n",
       "      <th>CompStat Year</th>\n",
       "      <th>Offense</th>\n",
       "      <th>Sector</th>\n",
       "      <th>Precinct</th>\n",
       "      <th>Borough</th>\n",
       "      <th>Jurisdiction</th>\n",
       "    </tr>\n",
       "  </thead>\n",
       "  <tbody>\n",
       "    <tr>\n",
       "      <th>0</th>\n",
       "      <td>Monday</td>\n",
       "      <td>Oct</td>\n",
       "      <td>2</td>\n",
       "      <td>2015</td>\n",
       "      <td>12</td>\n",
       "      <td>11</td>\n",
       "      <td>23</td>\n",
       "      <td>2015</td>\n",
       "      <td>GRAND LARCENY</td>\n",
       "      <td>B</td>\n",
       "      <td>25</td>\n",
       "      <td>MANHATTAN</td>\n",
       "      <td>N.Y. POLICE DEPT</td>\n",
       "    </tr>\n",
       "    <tr>\n",
       "      <th>1</th>\n",
       "      <td>Wednesday</td>\n",
       "      <td>Sep</td>\n",
       "      <td>6</td>\n",
       "      <td>2015</td>\n",
       "      <td>2</td>\n",
       "      <td>10</td>\n",
       "      <td>2</td>\n",
       "      <td>2015</td>\n",
       "      <td>FELONY ASSAULT</td>\n",
       "      <td>G</td>\n",
       "      <td>90</td>\n",
       "      <td>BROOKLYN</td>\n",
       "      <td>N.Y. HOUSING POLICE</td>\n",
       "    </tr>\n",
       "  </tbody>\n",
       "</table>\n",
       "</div>"
      ],
      "text/plain": [
       "  Day of Week Occurrence Month  Occurrence Day  Occurrence Year  \\\n",
       "0      Monday              Oct               2             2015   \n",
       "1   Wednesday              Sep               6             2015   \n",
       "\n",
       "   Occurrence Hour  CompStat Month  CompStat Day  CompStat Year  \\\n",
       "0               12              11            23           2015   \n",
       "1                2              10             2           2015   \n",
       "\n",
       "          Offense Sector  Precinct    Borough         Jurisdiction  \n",
       "0   GRAND LARCENY      B        25  MANHATTAN     N.Y. POLICE DEPT  \n",
       "1  FELONY ASSAULT      G        90   BROOKLYN  N.Y. HOUSING POLICE  "
      ]
     },
     "execution_count": 32,
     "metadata": {},
     "output_type": "execute_result"
    }
   ],
   "source": [
    "test=pd.read_csv(\"/Users/deepak/Downloads/data_science_challenge/test.csv\")\n",
    "test_data=drop_colums(test)\n",
    "test_data.head(2)"
   ]
  },
  {
   "cell_type": "code",
   "execution_count": 33,
   "metadata": {},
   "outputs": [
    {
     "data": {
      "text/html": [
       "<div>\n",
       "<style>\n",
       "    .dataframe thead tr:only-child th {\n",
       "        text-align: right;\n",
       "    }\n",
       "\n",
       "    .dataframe thead th {\n",
       "        text-align: left;\n",
       "    }\n",
       "\n",
       "    .dataframe tbody tr th {\n",
       "        vertical-align: top;\n",
       "    }\n",
       "</style>\n",
       "<table border=\"1\" class=\"dataframe\">\n",
       "  <thead>\n",
       "    <tr style=\"text-align: right;\">\n",
       "      <th></th>\n",
       "      <th>Identifier</th>\n",
       "      <th>Occurrence Datetime</th>\n",
       "      <th>Day of Week</th>\n",
       "      <th>Occurrence Month</th>\n",
       "      <th>Offense</th>\n",
       "      <th>Sector</th>\n",
       "      <th>Borough</th>\n",
       "      <th>Jurisdiction</th>\n",
       "      <th>Location 1</th>\n",
       "      <th>Occurrence Date</th>\n",
       "    </tr>\n",
       "  </thead>\n",
       "  <tbody>\n",
       "    <tr>\n",
       "      <th>0</th>\n",
       "      <td>aae098f0</td>\n",
       "      <td>10/02/2015 12:11:00 PM</td>\n",
       "      <td>Monday</td>\n",
       "      <td>Oct</td>\n",
       "      <td>GRAND LARCENY</td>\n",
       "      <td>B</td>\n",
       "      <td>MANHATTAN</td>\n",
       "      <td>N.Y. POLICE DEPT</td>\n",
       "      <td>(40.8043840460001, -73.9374216689999)</td>\n",
       "      <td>2015-10-02</td>\n",
       "    </tr>\n",
       "    <tr>\n",
       "      <th>1</th>\n",
       "      <td>d71bac4b</td>\n",
       "      <td>09/06/2015 02:00:00 AM</td>\n",
       "      <td>Wednesday</td>\n",
       "      <td>Sep</td>\n",
       "      <td>FELONY ASSAULT</td>\n",
       "      <td>G</td>\n",
       "      <td>BROOKLYN</td>\n",
       "      <td>N.Y. HOUSING POLICE</td>\n",
       "      <td>(40.703707008, -73.943257966)</td>\n",
       "      <td>2015-09-06</td>\n",
       "    </tr>\n",
       "    <tr>\n",
       "      <th>2</th>\n",
       "      <td>ea9926ff</td>\n",
       "      <td>12/10/2015 04:45:00 PM</td>\n",
       "      <td>Sunday</td>\n",
       "      <td>Dec</td>\n",
       "      <td>FELONY ASSAULT</td>\n",
       "      <td>C</td>\n",
       "      <td>MANHATTAN</td>\n",
       "      <td>N.Y. POLICE DEPT</td>\n",
       "      <td>(40.7613110390001, -73.973083376)</td>\n",
       "      <td>2015-12-10</td>\n",
       "    </tr>\n",
       "    <tr>\n",
       "      <th>3</th>\n",
       "      <td>ae713901</td>\n",
       "      <td>12/01/2015 02:30:00 PM</td>\n",
       "      <td>Friday</td>\n",
       "      <td>Dec</td>\n",
       "      <td>GRAND LARCENY</td>\n",
       "      <td>H</td>\n",
       "      <td>BROOKLYN</td>\n",
       "      <td>N.Y. POLICE DEPT</td>\n",
       "      <td>(40.7175732060001, -73.9625349519999)</td>\n",
       "      <td>2015-12-01</td>\n",
       "    </tr>\n",
       "    <tr>\n",
       "      <th>4</th>\n",
       "      <td>ab905411</td>\n",
       "      <td>02/13/2015 12:01:00 AM</td>\n",
       "      <td>Friday</td>\n",
       "      <td>Feb</td>\n",
       "      <td>GRAND LARCENY</td>\n",
       "      <td>B</td>\n",
       "      <td>BROOKLYN</td>\n",
       "      <td>N.Y. POLICE DEPT</td>\n",
       "      <td>(40.65030209, -73.9495198819999)</td>\n",
       "      <td>2015-02-13</td>\n",
       "    </tr>\n",
       "  </tbody>\n",
       "</table>\n",
       "</div>"
      ],
      "text/plain": [
       "  Identifier     Occurrence Datetime Day of Week Occurrence Month  \\\n",
       "0   aae098f0  10/02/2015 12:11:00 PM      Monday              Oct   \n",
       "1   d71bac4b  09/06/2015 02:00:00 AM   Wednesday              Sep   \n",
       "2   ea9926ff  12/10/2015 04:45:00 PM      Sunday              Dec   \n",
       "3   ae713901  12/01/2015 02:30:00 PM      Friday              Dec   \n",
       "4   ab905411  02/13/2015 12:01:00 AM      Friday              Feb   \n",
       "\n",
       "          Offense Sector    Borough         Jurisdiction  \\\n",
       "0   GRAND LARCENY      B  MANHATTAN     N.Y. POLICE DEPT   \n",
       "1  FELONY ASSAULT      G   BROOKLYN  N.Y. HOUSING POLICE   \n",
       "2  FELONY ASSAULT      C  MANHATTAN     N.Y. POLICE DEPT   \n",
       "3   GRAND LARCENY      H   BROOKLYN     N.Y. POLICE DEPT   \n",
       "4   GRAND LARCENY      B   BROOKLYN     N.Y. POLICE DEPT   \n",
       "\n",
       "                              Location 1 Occurrence Date  \n",
       "0  (40.8043840460001, -73.9374216689999)      2015-10-02  \n",
       "1          (40.703707008, -73.943257966)      2015-09-06  \n",
       "2      (40.7613110390001, -73.973083376)      2015-12-10  \n",
       "3  (40.7175732060001, -73.9625349519999)      2015-12-01  \n",
       "4       (40.65030209, -73.9495198819999)      2015-02-13  "
      ]
     },
     "execution_count": 33,
     "metadata": {},
     "output_type": "execute_result"
    }
   ],
   "source": [
    "obj_test = test.select_dtypes(include=['object']).copy()\n",
    "obj_test.head()"
   ]
  },
  {
   "cell_type": "code",
   "execution_count": 42,
   "metadata": {},
   "outputs": [],
   "source": [
    "encode(obj_test,test_data)\n",
    "test_data.head()\n",
    "test_data=drop_colums(test_data)"
   ]
  },
  {
   "cell_type": "code",
   "execution_count": 43,
   "metadata": {},
   "outputs": [
    {
     "data": {
      "text/plain": [
       "0.99977136949671463"
      ]
     },
     "execution_count": 43,
     "metadata": {},
     "output_type": "execute_result"
    }
   ],
   "source": [
    "from sklearn.metrics import accuracy_score\n",
    "\n",
    "y_pred=clf2.predict(test_data)\n",
    "y_true=test_data[\"Offense\"]\n",
    "accuracy_score(y_true, y_pred)"
   ]
  },
  {
   "cell_type": "code",
   "execution_count": 443,
   "metadata": {},
   "outputs": [],
   "source": [
    "y_pred=clf.predict(test_data)"
   ]
  },
  {
   "cell_type": "code",
   "execution_count": 445,
   "metadata": {},
   "outputs": [
    {
     "data": {
      "text/plain": [
       "0.99573554409089549"
      ]
     },
     "execution_count": 445,
     "metadata": {},
     "output_type": "execute_result"
    }
   ],
   "source": [
    "from sklearn.metrics import accuracy_score\n",
    "y_true=test_data[\"Offense\"]\n",
    "accuracy_score(y_true, y_pred)"
   ]
  },
  {
   "cell_type": "code",
   "execution_count": null,
   "metadata": {
    "collapsed": true
   },
   "outputs": [],
   "source": []
  },
  {
   "cell_type": "markdown",
   "metadata": {},
   "source": [
    "\n",
    "1. How would you improve your model if you had another hour?\n",
    "\n",
    "Lat long is an important feature. Certian type of crimes are possibly related to certain specific areas.I would spend more time on seeing if I can convert them to ZIPCODE via  an online database.\n",
    "\n",
    "2. How would you improve your model if you had another week?\n",
    "\n",
    "Spend more time on learning about time series problems,\n",
    "Use some of the dropped features.\n",
    "Spend more time visualizing.\n",
    "\n",
    "\n",
    "3. What approach did you use?\n",
    "Random Forest\n",
    "\n",
    "\n",
    "4. Why did you use this approach?\n",
    "Much Faster than SVM\n",
    "\n"
   ]
  },
  {
   "cell_type": "code",
   "execution_count": null,
   "metadata": {
    "collapsed": true
   },
   "outputs": [],
   "source": []
  }
 ],
 "metadata": {
  "kernelspec": {
   "display_name": "Python [conda root]",
   "language": "python",
   "name": "conda-root-py"
  },
  "language_info": {
   "codemirror_mode": {
    "name": "ipython",
    "version": 3
   },
   "file_extension": ".py",
   "mimetype": "text/x-python",
   "name": "python",
   "nbconvert_exporter": "python",
   "pygments_lexer": "ipython3",
   "version": "3.6.1"
  }
 },
 "nbformat": 4,
 "nbformat_minor": 2
}
